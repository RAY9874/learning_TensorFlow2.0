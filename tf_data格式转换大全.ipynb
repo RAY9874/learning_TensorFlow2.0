{
 "cells": [
  {
   "cell_type": "markdown",
   "metadata": {},
   "source": [
    " # Tensorflow ���ݸ�ʽ�����ȫ\n",
    " Tensorflow�����ѣ�����������������г�������˽���֪����ʽ�����޷������������ݵ�ͼ������tensor��֮ǰֻ����run��ʱ����ܲ鿴���ǳ������㡣TF�ṩ�˺ܶ�api���Ӷ�ȡĿ¼������ͼƬ��ֻ��ͨ��tf��ܶ�������ݣ���������tensor��ʽ�洢���ڴ��У����Ѳ鿴��Ҳ�޷���֪�����Ƿ���ȷ�����Ѳ������⡣\n",
    " \n",
    "�����°汾TF���ṩ��tf.enable_eager_execution()ģʽ�����ܼ��󷽱�����ʵʱ�۲�tf�����ݵı仯���о��е�����pytorch��˼�롣\n",
    "\n",
    "��˵���������µ�tf 1.13�汾��Ӧ��Ҳ����2.0�汾��ע��ð汾��Ҫ��cuda���µ�10.0��cuda���°���10.1��ע�ⲻҪװ���ˡ�"
   ]
  },
  {
   "cell_type": "markdown",
   "metadata": {},
   "source": [
    " ���ȵ�����Ҫ�Ļ�����"
   ]
  },
  {
   "cell_type": "code",
   "execution_count": 1,
   "metadata": {},
   "outputs": [
    {
     "data": {
      "text/plain": [
       "'1.13.1'"
      ]
     },
     "execution_count": 1,
     "metadata": {},
     "output_type": "execute_result"
    }
   ],
   "source": [
    "import tensorflow as tf\n",
    "import numpy as np\n",
    "tf.VERSION\n",
    "tf.enable_eager_execution()"
   ]
  },
  {
   "cell_type": "markdown",
   "metadata": {},
   "source": [
    " ## 1. Tensor �� numpy\n",
    " ### 1.1 ����������ܵĲ�����ת��\n",
    " TensorFlow operations ���Զ��� NumPy ndarrays ת��Ϊ Tensors��\n",
    " ͬ����Numpy operations ���Զ��� Tensors ת��Ϊ numpy ndarrays"
   ]
  },
  {
   "cell_type": "code",
   "execution_count": 2,
   "metadata": {},
   "outputs": [
    {
     "name": "stdout",
     "output_type": "stream",
     "text": [
      "tf.Tensor(\n",
      "[[42. 42. 42.]\n",
      " [42. 42. 42.]\n",
      " [42. 42. 42.]], shape=(3, 3), dtype=float64)\n",
      "[[43. 43. 43.]\n",
      " [43. 43. 43.]\n",
      " [43. 43. 43.]]\n"
     ]
    }
   ],
   "source": [
    "ndarray = np.ones([3, 3])\n",
    "tensor = tf.multiply(ndarray, 42)\n",
    "print(tensor)\n",
    "np_arr = np.add(tensor, 1)\n",
    "print(np_arr)"
   ]
  },
  {
   "cell_type": "markdown",
   "metadata": {},
   "source": [
    " ���ʹ�������ļӼ��˳�Ҳ�ǿ��Եġ�"
   ]
  },
  {
   "cell_type": "code",
   "execution_count": 3,
   "metadata": {},
   "outputs": [
    {
     "name": "stdout",
     "output_type": "stream",
     "text": [
      "[[2. 2. 2.]\n",
      " [2. 2. 2.]\n",
      " [2. 2. 2.]]\n",
      "tf.Tensor(\n",
      "[[43. 43. 43.]\n",
      " [43. 43. 43.]\n",
      " [43. 43. 43.]], shape=(3, 3), dtype=float64)\n",
      "[[1806. 1806. 1806.]\n",
      " [1806. 1806. 1806.]\n",
      " [1806. 1806. 1806.]]\n",
      "tf.Tensor(\n",
      "[[1764. 1764. 1764.]\n",
      " [1764. 1764. 1764.]\n",
      " [1764. 1764. 1764.]], shape=(3, 3), dtype=float64)\n"
     ]
    }
   ],
   "source": [
    "print(ndarray + [[1, 1, 1], [1, 1, 1], [1, 1, 1]])\n",
    "print(tensor + [[1, 1, 1], [1, 1, 1], [1, 1, 1]])\n",
    "print(np_arr * 42)\n",
    "print(tensor * 42)"
   ]
  },
  {
   "cell_type": "markdown",
   "metadata": {},
   "source": [
    " ### 1.2 numpy -> tensor"
   ]
  },
  {
   "cell_type": "code",
   "execution_count": 4,
   "metadata": {},
   "outputs": [
    {
     "name": "stdout",
     "output_type": "stream",
     "text": [
      "tf.Tensor(\n",
      "[[43. 43. 43.]\n",
      " [43. 43. 43.]\n",
      " [43. 43. 43.]], shape=(3, 3), dtype=float64)\n"
     ]
    }
   ],
   "source": [
    "print(tf.convert_to_tensor(np_arr))"
   ]
  },
  {
   "cell_type": "markdown",
   "metadata": {},
   "source": [
    " ### 1.3 tensor -> numpy"
   ]
  },
  {
   "cell_type": "code",
   "execution_count": 5,
   "metadata": {},
   "outputs": [
    {
     "name": "stdout",
     "output_type": "stream",
     "text": [
      "[[42. 42. 42.]\n",
      " [42. 42. 42.]\n",
      " [42. 42. 42.]]\n"
     ]
    }
   ],
   "source": [
    "print(tensor.numpy())"
   ]
  },
  {
   "cell_type": "markdown",
   "metadata": {},
   "source": [
    "## 2. Dataset��numpy & tensors\n",
    "### 2.1 numpy(tensors) -> Dataset"
   ]
  },
  {
   "cell_type": "code",
   "execution_count": 6,
   "metadata": {},
   "outputs": [
    {
     "name": "stdout",
     "output_type": "stream",
     "text": [
      "<DatasetV1Adapter shapes: (), types: tf.int32>\n",
      "<DatasetV1Adapter shapes: (3,), types: tf.float64>\n"
     ]
    }
   ],
   "source": [
    "ds_tensors1 = tf.data.Dataset.from_tensor_slices([1, 2, 3, 4, 5, 6])\n",
    "ds_tensors2 = tf.data.Dataset.from_tensor_slices(np.ones([3,3]))\n",
    "print(ds_tensors1)\n",
    "print(ds_tensors2)"
   ]
  },
  {
   "cell_type": "markdown",
   "metadata": {},
   "source": [
    "���Կ�����Dataset����ʾshape��ʱ�򣬲�����ʾ��һά����һάĬ����batch��\n",
    "������ڶ�����������Բ�������ķ�ʽ��"
   ]
  },
  {
   "cell_type": "code",
   "execution_count": 7,
   "metadata": {},
   "outputs": [
    {
     "name": "stdout",
     "output_type": "stream",
     "text": [
      "<DatasetV1Adapter shapes: ((4, 4), (1,)), types: (tf.float64, tf.float64)>\n"
     ]
    }
   ],
   "source": [
    "features = np.ones([100, 4, 4])\n",
    "labels = np.ones([100, 1])\n",
    "ds_tensor3 = tf.data.Dataset.from_tensor_slices((features, labels))\n",
    "print(ds_tensor3)"
   ]
  },
  {
   "cell_type": "markdown",
   "metadata": {},
   "source": [
    "���Dataset�Ĵ�С��Ϊ(4, 4), (1, )\n",
    "��������϶࣬���ǻ����Զ������������"
   ]
  },
  {
   "cell_type": "code",
   "execution_count": 8,
   "metadata": {},
   "outputs": [
    {
     "name": "stdout",
     "output_type": "stream",
     "text": [
      "<DatasetV1Adapter shapes: {a: (4, 4), b: (1,)}, types: {a: tf.float64, b: tf.float64}>\n"
     ]
    }
   ],
   "source": [
    "ds_tensor4 = tf.data.Dataset.from_tensor_slices({\"a\": features, \"b\": labels})\n",
    "print(ds_tensor4)"
   ]
  },
  {
   "cell_type": "raw",
   "metadata": {},
   "source": [
    "����Ĵ���λὫ features �� labels ������Ϊ tf.constant() ָ��Ƕ����TensorFlow ͼ�С������ǳ��ʺ�С�����ݼ��������˷��ڴ棬��Ϊ���θ�����������ݣ������ܻ�ﵽ tf.GraphDef Э�黺������ 2GB ���ޡ���Ϊ������������Ը��� tf.placeholder() �������� Dataset�����ڶ����ݼ���ʼ�� Iterator ʱ���� NumPy ���顣������������ڶ�̬�޸�Dataset�����ݵ���ʽ��\n",
    "features_placeholder = tf.placeholder(features.dtype, features.shape)\n",
    "labels_placeholder = tf.placeholder(labels.dtype, labels.shape)\n",
    "dataset = tf.data.Dataset.from_tensor_slices((features_placeholder, labels_placeholder))\n",
    "iterator = dataset.make_initializable_iterator() \n",
    "sess.run(iterator.initializer, feed_dict={features_placeholder: features,labels_placeholder: labels})"
   ]
  },
  {
   "cell_type": "markdown",
   "metadata": {},
   "source": [
    "��Ҫע����ǣ�Dataset����һ������from_tensors()��һ�㲻���������Ϊ����������Ὣ��һά��Ϊbatch��"
   ]
  },
  {
   "cell_type": "code",
   "execution_count": 9,
   "metadata": {},
   "outputs": [
    {
     "data": {
      "text/plain": [
       "<DatasetV1Adapter shapes: {a: (?, 100, 4, 4), b: (?, 100, 1)}, types: {a: tf.float64, b: tf.float64}>"
      ]
     },
     "execution_count": 9,
     "metadata": {},
     "output_type": "execute_result"
    },
    {
     "name": "stdout",
     "output_type": "stream",
     "text": [
      "<DatasetV1Adapter shapes: {a: (100, 4, 4), b: (100, 1)}, types: {a: tf.float64, b: tf.float64}>\n"
     ]
    }
   ],
   "source": [
    "ds_tensor5 = tf.data.Dataset.from_tensors({\"a\": features, \"b\": labels})\n",
    "ds_tensor5.batch(4)\n",
    "print(ds_tensor5)"
   ]
  },
  {
   "cell_type": "markdown",
   "metadata": {},
   "source": [
    "  ### 2.2 Dataset -> Dataset\n",
    " Dataset�ϲ�����Dataset��numpyֱ��������һ��㲻һ��"
   ]
  },
  {
   "cell_type": "code",
   "execution_count": 10,
   "metadata": {},
   "outputs": [
    {
     "name": "stdout",
     "output_type": "stream",
     "text": [
      "<DatasetV1Adapter shapes: ((4, 4), (1,)), types: (tf.float64, tf.float64)>\n"
     ]
    }
   ],
   "source": [
    "features_ds = tf.data.Dataset.from_tensor_slices(features)\n",
    "label_ds = tf.data.Dataset.from_tensor_slices(labels)\n",
    "ds_tensor6 = tf.data.Dataset.zip((features_ds, label_ds))\n",
    "print(ds_tensor6)"
   ]
  },
  {
   "cell_type": "markdown",
   "metadata": {},
   "source": [
    " ȡDataset���Ӽ��������������������ݼ���Сʱ����������dataset"
   ]
  },
  {
   "cell_type": "code",
   "execution_count": 11,
   "metadata": {},
   "outputs": [
    {
     "data": {
      "text/plain": [
       "<DatasetV1Adapter shapes: ((4, 4), (1,)), types: (tf.float64, tf.float64)>"
      ]
     },
     "execution_count": 11,
     "metadata": {},
     "output_type": "execute_result"
    }
   ],
   "source": [
    "ds_tensor6.take(10)"
   ]
  },
  {
   "cell_type": "markdown",
   "metadata": {},
   "source": [
    " ### 2.3 Dataset -> tensors & numpy array\n",
    " ��һ��������ת����Dataset֮��������۲�һ��������ݼ�������Щ��ϣ��ת��������\n",
    " Dataset��׼������ʹ��tf.data.Iterator������Ҳ����ʹ��python�Լ��ĵ�����ʵ�֣����ҽ���eager execution������ʱ��"
   ]
  },
  {
   "cell_type": "code",
   "execution_count": 12,
   "metadata": {},
   "outputs": [
    {
     "name": "stdout",
     "output_type": "stream",
     "text": [
      "WARNING:tensorflow:From d:\\users\\mic\\anaconda3\\envs\\py36\\lib\\site-packages\\tensorflow\\python\\data\\ops\\iterator_ops.py:532: colocate_with (from tensorflow.python.framework.ops) is deprecated and will be removed in a future version.\n",
      "Instructions for updating:\n",
      "Colocations handled automatically by placer.\n",
      "[[1. 1. 1. 1. 1.]\n",
      " [1. 1. 1. 1. 1.]] [1.]\n",
      "[[1. 1. 1. 1. 1.]\n",
      " [1. 1. 1. 1. 1.]] [1.]\n"
     ]
    }
   ],
   "source": [
    "features = np.ones([10, 2, 5])\n",
    "labels = np.ones([10, 1])\n",
    "ds_tensor7 = tf.data.Dataset.from_tensor_slices((features, labels))\n",
    "for f, l in ds_tensor7.take(2):\n",
    "    #print(f, l) # ���tensor\n",
    "    print(f.numpy(), l.numpy())  # ���numpy"
   ]
  },
  {
   "cell_type": "markdown",
   "metadata": {},
   "source": [
    "���������batch����ᰴ��batch��С���"
   ]
  },
  {
   "cell_type": "code",
   "execution_count": 13,
   "metadata": {},
   "outputs": [
    {
     "name": "stdout",
     "output_type": "stream",
     "text": [
      "[[[1. 1. 1. 1. 1.]\n",
      "  [1. 1. 1. 1. 1.]]\n",
      "\n",
      " [[1. 1. 1. 1. 1.]\n",
      "  [1. 1. 1. 1. 1.]]\n",
      "\n",
      " [[1. 1. 1. 1. 1.]\n",
      "  [1. 1. 1. 1. 1.]]\n",
      "\n",
      " [[1. 1. 1. 1. 1.]\n",
      "  [1. 1. 1. 1. 1.]]] [[1.]\n",
      " [1.]\n",
      " [1.]\n",
      " [1.]]\n",
      "[[[1. 1. 1. 1. 1.]\n",
      "  [1. 1. 1. 1. 1.]]\n",
      "\n",
      " [[1. 1. 1. 1. 1.]\n",
      "  [1. 1. 1. 1. 1.]]\n",
      "\n",
      " [[1. 1. 1. 1. 1.]\n",
      "  [1. 1. 1. 1. 1.]]\n",
      "\n",
      " [[1. 1. 1. 1. 1.]\n",
      "  [1. 1. 1. 1. 1.]]] [[1.]\n",
      " [1.]\n",
      " [1.]\n",
      " [1.]]\n"
     ]
    }
   ],
   "source": [
    "ds_tensor8 = ds_tensor7.batch(4)\n",
    "for f, l in ds_tensor8.take(2):\n",
    "    #print(f, l)\n",
    "    print(f.numpy(), l.numpy())"
   ]
  },
  {
   "cell_type": "markdown",
   "metadata": {},
   "source": [
    "�����ȡ���������ݼ������Խ�batch���õı����ݼ������һ��ֵ"
   ]
  },
  {
   "cell_type": "code",
   "execution_count": 14,
   "metadata": {},
   "outputs": [
    {
     "name": "stdout",
     "output_type": "stream",
     "text": [
      "[[[1. 1. 1. 1. 1.]\n",
      "  [1. 1. 1. 1. 1.]]\n",
      "\n",
      " [[1. 1. 1. 1. 1.]\n",
      "  [1. 1. 1. 1. 1.]]\n",
      "\n",
      " [[1. 1. 1. 1. 1.]\n",
      "  [1. 1. 1. 1. 1.]]\n",
      "\n",
      " [[1. 1. 1. 1. 1.]\n",
      "  [1. 1. 1. 1. 1.]]\n",
      "\n",
      " [[1. 1. 1. 1. 1.]\n",
      "  [1. 1. 1. 1. 1.]]\n",
      "\n",
      " [[1. 1. 1. 1. 1.]\n",
      "  [1. 1. 1. 1. 1.]]\n",
      "\n",
      " [[1. 1. 1. 1. 1.]\n",
      "  [1. 1. 1. 1. 1.]]\n",
      "\n",
      " [[1. 1. 1. 1. 1.]\n",
      "  [1. 1. 1. 1. 1.]]\n",
      "\n",
      " [[1. 1. 1. 1. 1.]\n",
      "  [1. 1. 1. 1. 1.]]\n",
      "\n",
      " [[1. 1. 1. 1. 1.]\n",
      "  [1. 1. 1. 1. 1.]]] [[1.]\n",
      " [1.]\n",
      " [1.]\n",
      " [1.]\n",
      " [1.]\n",
      " [1.]\n",
      " [1.]\n",
      " [1.]\n",
      " [1.]\n",
      " [1.]]\n"
     ]
    }
   ],
   "source": [
    "ds_tensor9 = ds_tensor7.batch(100, drop_remainder=False)\n",
    "for f, l in ds_tensor9:\n",
    "    #print(f, l)\n",
    "    print(f.numpy(), l.numpy())"
   ]
  },
  {
   "cell_type": "markdown",
   "metadata": {},
   "source": [
    "����һ�ַ�����ʹ��python�ĵ�����"
   ]
  },
  {
   "cell_type": "code",
   "execution_count": 15,
   "metadata": {},
   "outputs": [
    {
     "data": {
      "text/plain": [
       "(<tf.Tensor: id=83, shape=(2, 5), dtype=float64, numpy=\n",
       " array([[1., 1., 1., 1., 1.],\n",
       "        [1., 1., 1., 1., 1.]])>,\n",
       " <tf.Tensor: id=84, shape=(1,), dtype=float64, numpy=array([1.])>)"
      ]
     },
     "execution_count": 15,
     "metadata": {},
     "output_type": "execute_result"
    }
   ],
   "source": [
    "iteration = iter(ds_tensor7)\n",
    "next(iteration)"
   ]
  },
  {
   "cell_type": "markdown",
   "metadata": {},
   "source": [
    "���û�п���eager execution��ʹ���������鷳һЩ����Ϊ���ε������ɳ�ʼ���������³�ʼ�����Լ������͡�����ɲο�https: // www.tensorflow.org/guide/datasets#creating_an_iterator\n",
    "�о�������ͦ�鷳�ģ����ܽ����������\n",
    "�����ǳ���ʹ�÷���\n",
    "\n",
    "dataset = tf.data.Dataset.range(5)\n",
    "\n",
    "iterator = dataset.make_initializable_iterator()\n",
    "\n",
    "next_element = iterator.get_next()\n",
    "\n",
    "���ص�next_element��tensor����Ȼ2.0Ĭ�Ͽ���eagerģʽ�����ַ�ʽ����ʱ�������ˡ�"
   ]
  },
  {
   "cell_type": "markdown",
   "metadata": {},
   "source": [
    "# 3. ���Ӹ��ӵ�Dataset����\n",
    "���ڸ��ӵ�datset����Ҫ�ȶ�ÿһ���������й�����Ȼ����ͨ��zip��ʽƴ����һ��\n",
    "\n",
    "����ֱ�ӻ�Ϸ�ʽ�����ݣ�tf���޷�����ġ����磬��list�д洢һ��dict������list�а����������"
   ]
  },
  {
   "cell_type": "code",
   "execution_count": 47,
   "metadata": {},
   "outputs": [
    {
     "data": {
      "text/plain": [
       "<DatasetV1Adapter shapes: ((5, 5), (4, 4)), types: (tf.float64, tf.float64)>"
      ]
     },
     "execution_count": 47,
     "metadata": {},
     "output_type": "execute_result"
    },
    {
     "data": {
      "text/plain": [
       "<DatasetV1Adapter shapes: ((), ()), types: (tf.string, tf.int32)>"
      ]
     },
     "execution_count": 47,
     "metadata": {},
     "output_type": "execute_result"
    },
    {
     "data": {
      "text/plain": [
       "<DatasetV1Adapter shapes: (((5, 5), (4, 4)), ((), ())), types: ((tf.float64, tf.float64), (tf.string, tf.int32))>"
      ]
     },
     "execution_count": 47,
     "metadata": {},
     "output_type": "execute_result"
    },
    {
     "data": {
      "text/plain": [
       "<DatasetV1Adapter shapes: ({im1: (5, 5)}, {im2: (4, 4)}), types: ({im1: tf.float64}, {im2: tf.float64})>"
      ]
     },
     "execution_count": 47,
     "metadata": {},
     "output_type": "execute_result"
    },
    {
     "data": {
      "text/plain": [
       "<DatasetV1Adapter shapes: ({lb1: ()}, {lb2: ()}), types: ({lb1: tf.string}, {lb2: tf.int32})>"
      ]
     },
     "execution_count": 47,
     "metadata": {},
     "output_type": "execute_result"
    },
    {
     "data": {
      "text/plain": [
       "<DatasetV1Adapter shapes: (({im1: (5, 5)}, {im2: (4, 4)}), ({lb1: ()}, {lb2: ()})), types: (({im1: tf.float64}, {im2: tf.float64}), ({lb1: tf.string}, {lb2: tf.int32}))>"
      ]
     },
     "execution_count": 47,
     "metadata": {},
     "output_type": "execute_result"
    },
    {
     "data": {
      "text/plain": [
       "<DatasetV1Adapter shapes: {inputs: ({im1: (5, 5)}, {im2: (4, 4)}), outputs: ({lb1: ()}, {lb2: ()})}, types: {inputs: ({im1: tf.float64}, {im2: tf.float64}), outputs: ({lb1: tf.string}, {lb2: tf.int32})}>"
      ]
     },
     "execution_count": 47,
     "metadata": {},
     "output_type": "execute_result"
    }
   ],
   "source": [
    "n_observations = int(1e2)\n",
    "\n",
    "# multi input and output\n",
    "img1 = np.arange(n_observations*25).reshape([n_observations, 5, 5]).astype(np.float64)\n",
    "img2 = np.arange(n_observations*16).reshape([n_observations, 4, 4]).astype(np.float64)\n",
    "img1 = tf.data.Dataset.from_tensor_slices(img1)\n",
    "img2 = tf.data.Dataset.from_tensor_slices(img2)\n",
    "img = tf.data.Dataset.zip((img1, img2))\n",
    "img\n",
    "label1 = [\"cat\"]*n_observations\n",
    "label2 = [0]*n_observations\n",
    "label1 = tf.data.Dataset.from_tensor_slices(label1)\n",
    "label2 = tf.data.Dataset.from_tensor_slices(label2)\n",
    "label = tf.data.Dataset.zip((label1, label2))\n",
    "label\n",
    "ds = tf.data.Dataset.zip((img, label))\n",
    "ds\n",
    "\n",
    "# �����Ƶ��ֵ���ʽ multi input and output\n",
    "img1 = np.arange(n_observations*25).reshape([n_observations, 5, 5]).astype(np.float64)\n",
    "img2 = np.arange(n_observations*16).reshape([n_observations, 4, 4]).astype(np.float64)\n",
    "img1 = tf.data.Dataset.from_tensor_slices({\"im1\": img1})\n",
    "img2 = tf.data.Dataset.from_tensor_slices({\"im2\": img2})\n",
    "img = tf.data.Dataset.zip((img1, img2))\n",
    "img\n",
    "label1 = [\"cat\"]*n_observations\n",
    "label2 = [0]*n_observations\n",
    "label1 = tf.data.Dataset.from_tensor_slices({\"lb1\":label1})\n",
    "label2 = tf.data.Dataset.from_tensor_slices({\"lb2\":label2})\n",
    "label = tf.data.Dataset.zip((label1, label2))\n",
    "label\n",
    "ds = tf.data.Dataset.zip((img, label))\n",
    "ds\n",
    "def change_format(x1, x2):\n",
    "    return {\"inputs\":x1, \"outputs\":x2}\n",
    "ds = ds.map(change_format)\n",
    "ds\n",
    "    "
   ]
  },
  {
   "cell_type": "markdown",
   "metadata": {},
   "source": [
    " ## 4. Dataset �� TFRecord\n",
    " ��TFRecord�򽻵����Ȱ����������������ϣ��ֱ����ַ��������ͺ������ͣ�����bool�ͣ���\n",
    " TFRecord֮����������ƣ�����Ϊ�����ݶ�ȡʱ�����ÿ�����ݶ���һ���������еĻ�����ȡ�ٶȻ��ܶࡣ"
   ]
  },
  {
   "cell_type": "markdown",
   "metadata": {},
   "source": [
    " ����Ҫ�洢������\n",
    " the number of observations in the dataset"
   ]
  },
  {
   "cell_type": "code",
   "execution_count": 16,
   "metadata": {},
   "outputs": [],
   "source": [
    "n_observations = int(1e2)"
   ]
  },
  {
   "cell_type": "markdown",
   "metadata": {},
   "source": [
    " ### 4.1 5x5 image float���ݶ�д\n",
    " ʹ��numpy����5x5��float��������"
   ]
  },
  {
   "cell_type": "code",
   "execution_count": 17,
   "metadata": {},
   "outputs": [
    {
     "name": "stdout",
     "output_type": "stream",
     "text": [
      "<DatasetV1Adapter shapes: (5, 5), types: tf.float64>\n",
      "<DatasetV1Adapter shapes: (), types: tf.string>\n"
     ]
    }
   ],
   "source": [
    "feature1 = np.arange(n_observations*25).reshape([n_observations, 5, 5]).astype(np.float64)\n",
    "feature1 = tf.data.Dataset.from_tensor_slices(feature1)\n",
    "print(feature1)\n",
    "#map�����Ĳ���Ϊһ�����������Էֱ𵥶�����dataset�е�ÿһ��Ԫ��\n",
    "restore_shape= feature1.output_shapes\n",
    "feature1 = feature1.map(tf.serialize_tensor)\n",
    "print(feature1)"
   ]
  },
  {
   "cell_type": "markdown",
   "metadata": {},
   "source": [
    "д��TFRecord�ĵ���"
   ]
  },
  {
   "cell_type": "code",
   "execution_count": 18,
   "metadata": {},
   "outputs": [],
   "source": [
    "filename = \"test_float_matrix.tfrec\"\n",
    "tfrec = tf.data.experimental.TFRecordWriter(filename)\n",
    "tfrec.write(feature1)"
   ]
  },
  {
   "cell_type": "markdown",
   "metadata": {},
   "source": [
    "��ȡ�洢���ĵ�"
   ]
  },
  {
   "cell_type": "code",
   "execution_count": 19,
   "metadata": {},
   "outputs": [
    {
     "data": {
      "text/plain": [
       "<DatasetV1Adapter shapes: (5, 5), types: tf.float64>"
      ]
     },
     "execution_count": 19,
     "metadata": {},
     "output_type": "execute_result"
    },
    {
     "name": "stdout",
     "output_type": "stream",
     "text": [
      "tf.Tensor(\n",
      "[[ 0.  1.  2.  3.  4.]\n",
      " [ 5.  6.  7.  8.  9.]\n",
      " [10. 11. 12. 13. 14.]\n",
      " [15. 16. 17. 18. 19.]\n",
      " [20. 21. 22. 23. 24.]], shape=(5, 5), dtype=float64)\n",
      "tf.Tensor(\n",
      "[[25. 26. 27. 28. 29.]\n",
      " [30. 31. 32. 33. 34.]\n",
      " [35. 36. 37. 38. 39.]\n",
      " [40. 41. 42. 43. 44.]\n",
      " [45. 46. 47. 48. 49.]], shape=(5, 5), dtype=float64)\n"
     ]
    }
   ],
   "source": [
    "def parse(x):\n",
    "    result = tf.parse_tensor(x, out_type=tf.float64)  # ע��鿴�洢ʱ�������������Ҫһ��\n",
    "    result = tf.reshape(result, tf.TensorShape([5,5])) # �����д˲�����shape����ʾΪ<unknown>��Ӱ���������\n",
    "    return result\n",
    "ds2 = tf.data.TFRecordDataset(filename).map(parse)\n",
    "ds2\n",
    "for x in ds2.take(2):\n",
    "    print(x)"
   ]
  },
  {
   "cell_type": "markdown",
   "metadata": {},
   "source": [
    "### 4.2 �ַ��� string feature ���ݶ�д"
   ]
  },
  {
   "cell_type": "code",
   "execution_count": 20,
   "metadata": {},
   "outputs": [
    {
     "name": "stdout",
     "output_type": "stream",
     "text": [
      "<DatasetV1Adapter shapes: (), types: tf.string>\n"
     ]
    }
   ],
   "source": [
    "random_choice = np.random.randint(0, 5, n_observations).astype(np.int64)\n",
    "strings = np.array([b'cat', b'dog', b'chicken', b'horse', b'goat'])\n",
    "feature2 = strings[random_choice]\n",
    "feature2 = tf.data.Dataset.from_tensor_slices(feature2)\n",
    "print(feature2)"
   ]
  },
  {
   "cell_type": "code",
   "execution_count": 21,
   "metadata": {},
   "outputs": [
    {
     "name": "stdout",
     "output_type": "stream",
     "text": [
      "tf.Tensor(b'chicken', shape=(), dtype=string)\n",
      "tf.Tensor(b'cat', shape=(), dtype=string)\n"
     ]
    }
   ],
   "source": [
    "filename = \"test_string.tfrec\"\n",
    "tfrec = tf.data.experimental.TFRecordWriter(filename)\n",
    "tfrec.write(feature2)\n",
    "\n",
    "ds2 = tf.data.TFRecordDataset(filename)\n",
    "\n",
    "for x in ds2.take(2):\n",
    "    print(x)"
   ]
  },
  {
   "cell_type": "markdown",
   "metadata": {},
   "source": [
    "### 4.3 1x1ά�������ݶ�д"
   ]
  },
  {
   "cell_type": "code",
   "execution_count": 39,
   "metadata": {},
   "outputs": [
    {
     "name": "stdout",
     "output_type": "stream",
     "text": [
      "<DatasetV1Adapter shapes: (), types: tf.int64>\n"
     ]
    },
    {
     "data": {
      "text/plain": [
       "<DatasetV1Adapter shapes: (), types: tf.string>"
      ]
     },
     "execution_count": 39,
     "metadata": {},
     "output_type": "execute_result"
    }
   ],
   "source": [
    "random_choice = np.random.randint(0, 5, n_observations).astype(np.int64)\n",
    "feature3 = tf.data.Dataset.from_tensor_slices(random_choice)\n",
    "print(feature3)\n",
    "feature3 = feature3.map(tf.serialize_tensor)\n",
    "feature3"
   ]
  },
  {
   "cell_type": "code",
   "execution_count": 42,
   "metadata": {},
   "outputs": [
    {
     "name": "stdout",
     "output_type": "stream",
     "text": [
      "tf.Tensor(3, shape=(), dtype=int64)\n",
      "tf.Tensor(0, shape=(), dtype=int64)\n"
     ]
    }
   ],
   "source": [
    "filename = \"test_int.tfrec\"\n",
    "tfrec = tf.data.experimental.TFRecordWriter(filename)\n",
    "tfrec.write(feature3)\n",
    "def parse(x):\n",
    "    result = tf.parse_tensor(x, out_type=tf.int64)  # ע��鿴�洢ʱ�������������Ҫһ��\n",
    "    return result\n",
    "ds3 = tf.data.TFRecordDataset(filename).map(parse)\n",
    "\n",
    "for x in ds3.take(2):\n",
    "    print(x)"
   ]
  },
  {
   "cell_type": "markdown",
   "metadata": {},
   "source": [
    "### 4.4 �������ͬʱд��\n",
    "��д��������ʱ��ͨ���������ݺͱ�ǩһһ��Ӧ�洢���������ʱ��Ҫ�õ�tf.example��ע�⣬����ÿһ�����������Ŀ�����ݣ�����ͳ��Ϊһ��example������������Ŀ�ǵ���ֵ������ʹ������ĺ������������������Ҫ��ת��Ϊ�ַ����ٽ��д洢��"
   ]
  },
  {
   "cell_type": "code",
   "execution_count": 22,
   "metadata": {},
   "outputs": [],
   "source": [
    "def _bytes_feature(value):\n",
    "  \"\"\"Returns a bytes_list from a string / byte.\"\"\"\n",
    "  return tf.train.Feature(bytes_list=tf.train.BytesList(value=[value]))\n",
    "\n",
    "def _float_feature(value):\n",
    "  \"\"\"Returns a float_list from a float / double.\"\"\"\n",
    "  return tf.train.Feature(float_list=tf.train.FloatList(value=[value]))\n",
    "\n",
    "def _int32_feature(value):\n",
    "  \"\"\"Returns an int64_list from a bool / enum / int / uint.\"\"\"\n",
    "  return tf.train.Feature(int32_list=tf.train.Int32List(value=[value]))\n",
    "\n",
    "def _int64_feature(value):\n",
    "  \"\"\"Returns an int64_list from a bool / enum / int / uint.\"\"\"\n",
    "  return tf.train.Feature(int64_list=tf.train.Int64List(value=[value]))"
   ]
  },
  {
   "cell_type": "markdown",
   "metadata": {},
   "source": [
    "Ȼ�����ַ�����ÿһ��example�ĺ���"
   ]
  },
  {
   "cell_type": "code",
   "execution_count": 23,
   "metadata": {},
   "outputs": [
    {
     "name": "stdout",
     "output_type": "stream",
     "text": [
      "<DatasetV1Adapter shapes: ((), (), ()), types: (tf.string, tf.string, tf.int64)>\n",
      "WARNING:tensorflow:From <ipython-input-23-bf1247de8473>:22: py_func (from tensorflow.python.ops.script_ops) is deprecated and will be removed in a future version.\n",
      "Instructions for updating:\n",
      "tf.py_func is deprecated in TF V2. Instead, use\n",
      "    tf.py_function, which takes a python function which manipulates tf eager\n",
      "    tensors instead of numpy arrays. It's easy to convert a tf eager tensor to\n",
      "    an ndarray (just call tensor.numpy()) but having access to eager tensors\n",
      "    means `tf.py_function`s can use accelerators such as GPUs as well as\n",
      "    being differentiable using a gradient tape.\n",
      "    \n",
      "<DatasetV1Adapter shapes: (), types: tf.string>\n"
     ]
    }
   ],
   "source": [
    "# ����ÿһ�����л�\n",
    "def serialize_example(feature1, feature2, feature3):\n",
    "    \"\"\"\n",
    "    Creates a tf.Example message ready to be written to a file.\n",
    "    \"\"\"\n",
    "    # Create a dictionary mapping the feature name to the tf.Example-compatible\n",
    "    # data type.\n",
    "    feature = {\n",
    "        'feature1': _bytes_feature(feature1),\n",
    "        'feature2': _bytes_feature(feature2),\n",
    "        'feature3': _int64_feature(feature3),\n",
    "    }\n",
    "    # Create a Features message using tf.train.Example.\n",
    "    example_proto = tf.train.Example(features=tf.train.Features(feature=feature))\n",
    "    return example_proto.SerializeToString()\n",
    "\n",
    "# example ���л�\n",
    "def tf_serialize_example(f1,f2,f3):\n",
    "    tf_string = tf.py_func( # 2.0�����ʹ��tf.py_function��������1.13�汾�У�����滻��tf.py_function�����\n",
    "      serialize_example, \n",
    "      (f1,f2,f3),  # pass these args to the above function.\n",
    "      tf.string)      # the return type is <a href=\"../../api_docs/python/tf#string\"><code>tf.string</code></a>.\n",
    "    return tf.reshape(tf_string, ())\n",
    "feature3 = np.random.randint(0, 5, n_observations).astype(np.int64)\n",
    "feature3 = tf.data.Dataset.from_tensor_slices(feature3)\n",
    "multi_ds = tf.data.Dataset.zip((feature1, feature2, feature3))\n",
    "print(multi_ds)\n",
    "multi_ds2 = multi_ds.map(tf_serialize_example)\n",
    "print(multi_ds2)"
   ]
  },
  {
   "cell_type": "markdown",
   "metadata": {},
   "source": [
    "д��TFRecord�ĵ�"
   ]
  },
  {
   "cell_type": "code",
   "execution_count": 24,
   "metadata": {},
   "outputs": [],
   "source": [
    "filename = 'test_multi_data.tfrecord'\n",
    "writer = tf.data.experimental.TFRecordWriter(filename)\n",
    "writer.write(multi_ds2)"
   ]
  },
  {
   "cell_type": "markdown",
   "metadata": {},
   "source": [
    "����TFRecord�ĵ�"
   ]
  },
  {
   "cell_type": "code",
   "execution_count": 25,
   "metadata": {},
   "outputs": [
    {
     "data": {
      "text/plain": [
       "<TFRecordDatasetV1 shapes: (), types: tf.string>"
      ]
     },
     "execution_count": 25,
     "metadata": {},
     "output_type": "execute_result"
    }
   ],
   "source": [
    "filenames = [filename]\n",
    "raw_dataset = tf.data.TFRecordDataset(filenames)\n",
    "raw_dataset"
   ]
  },
  {
   "cell_type": "code",
   "execution_count": 26,
   "metadata": {},
   "outputs": [
    {
     "data": {
      "text/plain": [
       "<DatasetV1Adapter shapes: {feature1: (), feature2: (), feature3: ()}, types: {feature1: tf.string, feature2: tf.string, feature3: tf.int64}>"
      ]
     },
     "execution_count": 26,
     "metadata": {},
     "output_type": "execute_result"
    }
   ],
   "source": [
    "# ����ʱ��Ҫ֪��ԭ�ȶ�����Щ��ʽ\n",
    "feature_description = {\n",
    "    'feature1': tf.FixedLenFeature([], tf.string, default_value=''),\n",
    "    'feature2': tf.FixedLenFeature([], tf.string, default_value=''),\n",
    "    'feature3': tf.FixedLenFeature([], tf.int64, default_value=0)\n",
    "}\n",
    "def _parse_function(example_proto):\n",
    "    # Parse the input tf.Example proto using the dictionary above.\n",
    "    return tf.parse_single_example(example_proto, feature_description)\n",
    "parsed_dataset = raw_dataset.map(_parse_function)\n",
    "parsed_dataset"
   ]
  },
  {
   "cell_type": "markdown",
   "metadata": {},
   "source": [
    "����feature1��float����"
   ]
  },
  {
   "cell_type": "code",
   "execution_count": 27,
   "metadata": {},
   "outputs": [
    {
     "data": {
      "text/plain": [
       "<DatasetV1Adapter shapes: ((5, 5), (), ()), types: (tf.float64, tf.string, tf.int64)>"
      ]
     },
     "execution_count": 27,
     "metadata": {},
     "output_type": "execute_result"
    },
    {
     "name": "stdout",
     "output_type": "stream",
     "text": [
      "tf.Tensor(\n",
      "[[ 0.  1.  2.  3.  4.]\n",
      " [ 5.  6.  7.  8.  9.]\n",
      " [10. 11. 12. 13. 14.]\n",
      " [15. 16. 17. 18. 19.]\n",
      " [20. 21. 22. 23. 24.]], shape=(5, 5), dtype=float64)\n",
      "tf.Tensor(b'chicken', shape=(), dtype=string)\n",
      "tf.Tensor(0, shape=(), dtype=int64)\n",
      "tf.Tensor(\n",
      "[[25. 26. 27. 28. 29.]\n",
      " [30. 31. 32. 33. 34.]\n",
      " [35. 36. 37. 38. 39.]\n",
      " [40. 41. 42. 43. 44.]\n",
      " [45. 46. 47. 48. 49.]], shape=(5, 5), dtype=float64)\n",
      "tf.Tensor(b'cat', shape=(), dtype=string)\n",
      "tf.Tensor(1, shape=(), dtype=int64)\n"
     ]
    }
   ],
   "source": [
    "def _parse_feature1(dictf):\n",
    "    res = tf.parse_tensor(dictf['feature1'], out_type=tf.float64)\n",
    "    res = tf.reshape(res, tf.TensorShape([5,5]))\n",
    "    return res,dictf['feature2'],dictf['feature3']\n",
    "parsed_dataset2 = parsed_dataset.map(_parse_feature1)\n",
    "parsed_dataset2\n",
    "for a,b,c in parsed_dataset2.take(2):\n",
    "    print(a)\n",
    "    print(b)\n",
    "    print(c)"
   ]
  },
  {
   "cell_type": "markdown",
   "metadata": {},
   "source": [
    "## 5. ʵ��ʹ��pipline��ʽ\n",
    "�ο���������ݣ�Ӧ�������׿��������̳���https://www.tensorflow.org/tutorials/load_data/images#build_a_tfdatadataset ��������\n",
    "������α���룺\n",
    "\n",
    "��֪������list�ֱ������all_image_paths��all_label_paths,�����ͨ���ⲿά��"
   ]
  },
  {
   "cell_type": "code",
   "execution_count": 32,
   "metadata": {},
   "outputs": [],
   "source": [
    "# all_image_paths=[]\n",
    "# all_label_paths=[]\n",
    "# def read_image(path):\n",
    "#     # ���ض�ȡ��image\n",
    "#     pass\n",
    "# def read_label(path):\n",
    "#     # ���ض�ȡ��label\n",
    "#     pass\n",
    "# def load_and_preprocess_from_path_label(img_path, label_path):\n",
    "#       return read_image(img_path), read_label(label_path)\n",
    "\n",
    "# ds = tf.data.Dataset.from_tensor_slices((all_image_paths, all_label_paths))#����Ƚ�С�����Զ������ڴ�\n",
    "# AUTOTUNE = tf.data.experimental.AUTOTUNE\n",
    "# ds = ds.map(load_and_preprocess_from_path_label, num_parallel_calls=AUTOTUNE)\n"
   ]
  },
  {
   "cell_type": "markdown",
   "metadata": {},
   "source": [
    "���忪ʼѵ��"
   ]
  },
  {
   "cell_type": "code",
   "execution_count": 33,
   "metadata": {},
   "outputs": [],
   "source": [
    "# # BATCH_SIZE = 32\n",
    "# image_count = len(all_image_paths)\n",
    "# # ��������ҵ�buffer���õ������ݼ�һ���������ܱ�֤���ݳɷ������\n",
    "# ds = ds.shuffle(buffer_size=image_count)\n",
    "# # �ȴ�����repeat���Ա�֤��ͬepoch֮�����ݲ��ظ�������repeat��������int��������ʾ�����ظ����ٴΣ�Ϊ�մ�������ѭ����\n",
    "# ds = ds.repeat()\n",
    "# ds = ds.batch(BATCH_SIZE)\n",
    "# # `prefetch` ������dataset��ѵ�������У��ں�̨��ȡbatch\n",
    "# ds = ds.prefetch(buffer_size=AUTOTUNE)"
   ]
  },
  {
   "cell_type": "markdown",
   "metadata": {},
   "source": [
    "�������ַ�У������������keras��ʹ��dataset https://tensorflow.google.cn/guide/keras#input_tfdata_datasets\n",
    "\n",
    "��һ��ģ���У�dataset�������ɵĽ���������tensor������ֱ�����뵽ģ���С�"
   ]
  },
  {
   "cell_type": "markdown",
   "metadata": {},
   "source": [
    "### 4.1 Keras ģ��ʾ��"
   ]
  },
  {
   "cell_type": "code",
   "execution_count": 28,
   "metadata": {},
   "outputs": [
    {
     "data": {
      "text/plain": [
       "<DatasetV1Adapter shapes: ((?, 28, 28), (?,)), types: (tf.float64, tf.int32)>"
      ]
     },
     "execution_count": 28,
     "metadata": {},
     "output_type": "execute_result"
    }
   ],
   "source": [
    "BATCH_SIZE = 32\n",
    "IMG_NUM = 1000\n",
    "x_train = np.random.normal(loc=0, scale=1, size=[IMG_NUM, 28, 28])\n",
    "y_train = np.random.choice(10, size=IMG_NUM)\n",
    "ds = tf.data.Dataset.from_tensor_slices((x_train, y_train))\n",
    "AUTOTUNE = tf.data.experimental.AUTOTUNE\n",
    "# ��������ҵ�buffer���õ������ݼ�һ���������ܱ�֤���ݳɷ������\n",
    "ds = ds.shuffle(buffer_size=1000)\n",
    "# �ȴ�����repeat���Ա�֤��ͬepoch֮�����ݲ��ظ�������repeat��������int��������ʾ�����ظ����ٴΣ�Ϊ�մ�������ѭ����\n",
    "ds = ds.repeat()\n",
    "ds = ds.batch(BATCH_SIZE)\n",
    "# `prefetch` ������dataset��ѵ�������У��ں�̨��ȡbatch\n",
    "ds = ds.prefetch(buffer_size=AUTOTUNE)\n",
    "ds"
   ]
  },
  {
   "cell_type": "markdown",
   "metadata": {},
   "source": [
    "��ģ��"
   ]
  },
  {
   "cell_type": "code",
   "execution_count": 29,
   "metadata": {},
   "outputs": [
    {
     "name": "stdout",
     "output_type": "stream",
     "text": [
      "WARNING:tensorflow:From d:\\users\\mic\\anaconda3\\envs\\py36\\lib\\site-packages\\tensorflow\\python\\keras\\layers\\core.py:143: calling dropout (from tensorflow.python.ops.nn_ops) with keep_prob is deprecated and will be removed in a future version.\n",
      "Instructions for updating:\n",
      "Please use `rate` instead of `keep_prob`. Rate should be set to `rate = 1 - keep_prob`.\n",
      "_________________________________________________________________\n",
      "Layer (type)                 Output Shape              Param #   \n",
      "=================================================================\n",
      "flatten (Flatten)            (None, 784)               0         \n",
      "_________________________________________________________________\n",
      "dense (Dense)                (None, 512)               401920    \n",
      "_________________________________________________________________\n",
      "dropout (Dropout)            (None, 512)               0         \n",
      "_________________________________________________________________\n",
      "dense_1 (Dense)              (None, 10)                5130      \n",
      "=================================================================\n",
      "Total params: 407,050\n",
      "Trainable params: 407,050\n",
      "Non-trainable params: 0\n",
      "_________________________________________________________________\n",
      "Epoch 1/5\n",
      "32/32 [==============================] - 3s 102ms/step - loss: 2.8052 - acc: 0.1104\n",
      "Epoch 2/5\n",
      "32/32 [==============================] - 0s 8ms/step - loss: 0.7812 - acc: 0.8340\n",
      "Epoch 3/5\n",
      "32/32 [==============================] - 0s 8ms/step - loss: 0.2513 - acc: 0.9912\n",
      "Epoch 4/5\n",
      "32/32 [==============================] - 0s 8ms/step - loss: 0.1111 - acc: 1.0000\n",
      "Epoch 5/5\n",
      "32/32 [==============================] - 0s 7ms/step - loss: 0.0650 - acc: 1.0000\n"
     ]
    },
    {
     "data": {
      "text/plain": [
       "<tensorflow.python.keras.callbacks.History at 0x26bcc3e59e8>"
      ]
     },
     "execution_count": 29,
     "metadata": {},
     "output_type": "execute_result"
    }
   ],
   "source": [
    "model = tf.keras.models.Sequential([\n",
    "  tf.keras.layers.Flatten(input_shape=(28, 28)),\n",
    "  tf.keras.layers.Dense(512, activation=tf.nn.relu),\n",
    "  tf.keras.layers.Dropout(0.2),\n",
    "  tf.keras.layers.Dense(10, activation=tf.nn.softmax)\n",
    "])\n",
    "model.summary()\n",
    "model.compile(optimizer='adam',\n",
    "              loss='sparse_categorical_crossentropy',\n",
    "              metrics=['accuracy'])\n",
    "steps_per_epoch=tf.ceil(IMG_NUM/BATCH_SIZE).numpy().astype(np.int32)\n",
    "model.fit(ds, epochs=5, steps_per_epoch=steps_per_epoch)"
   ]
  },
  {
   "cell_type": "markdown",
   "metadata": {},
   "source": [
    "�߼�ģ��"
   ]
  },
  {
   "cell_type": "code",
   "execution_count": 30,
   "metadata": {},
   "outputs": [
    {
     "name": "stdout",
     "output_type": "stream",
     "text": [
      "_________________________________________________________________\n",
      "Layer (type)                 Output Shape              Param #   \n",
      "=================================================================\n",
      "input_1 (InputLayer)         (None, 28, 28)            0         \n",
      "_________________________________________________________________\n",
      "flatten_1 (Flatten)          (None, 784)               0         \n",
      "_________________________________________________________________\n",
      "dense_2 (Dense)              (None, 512)               401920    \n",
      "_________________________________________________________________\n",
      "dropout_1 (Dropout)          (None, 512)               0         \n",
      "_________________________________________________________________\n",
      "dense_3 (Dense)              (None, 10)                5130      \n",
      "=================================================================\n",
      "Total params: 407,050\n",
      "Trainable params: 407,050\n",
      "Non-trainable params: 0\n",
      "_________________________________________________________________\n",
      "Epoch 1/5\n",
      "32/32 [==============================] - 1s 23ms/step - loss: 2.7633 - acc: 0.1064\n",
      "Epoch 2/5\n",
      "32/32 [==============================] - 0s 6ms/step - loss: 0.7898 - acc: 0.8408\n",
      "Epoch 3/5\n",
      "32/32 [==============================] - 0s 9ms/step - loss: 0.2380 - acc: 0.9961\n",
      "Epoch 4/5\n",
      "32/32 [==============================] - 0s 8ms/step - loss: 0.1084 - acc: 1.0000\n",
      "Epoch 5/5\n",
      "32/32 [==============================] - 0s 6ms/step - loss: 0.0689 - acc: 1.0000\n"
     ]
    },
    {
     "data": {
      "text/plain": [
       "<tensorflow.python.keras.callbacks.History at 0x26bcd85d630>"
      ]
     },
     "execution_count": 30,
     "metadata": {},
     "output_type": "execute_result"
    }
   ],
   "source": [
    "inputs = tf.keras.Input(shape=(28,28))  # Returns a placeholder tensor\n",
    "\n",
    "# A layer instance is callable on a tensor, and returns a tensor.\n",
    "x = tf.keras.layers.Flatten()(inputs)\n",
    "x = tf.keras.layers.Dense(512, activation='relu')(x)\n",
    "x = tf.keras.layers.Dropout(0.2)(x)\n",
    "predictions = tf.keras.layers.Dense(10, activation='softmax')(x)\n",
    "model2 = tf.keras.Model(inputs=inputs, outputs=predictions)\n",
    "model2.summary()\n",
    "\n",
    "model2.compile(optimizer='adam',\n",
    "              loss='sparse_categorical_crossentropy',\n",
    "              metrics=['accuracy'])\n",
    "steps_per_epoch=tf.ceil(IMG_NUM/BATCH_SIZE).numpy().astype(np.int32)\n",
    "model2.fit(ds, epochs=5, steps_per_epoch=steps_per_epoch)"
   ]
  },
  {
   "cell_type": "markdown",
   "metadata": {},
   "source": [
    "### 4.2 Tensorflow ģ��ʾ�� ��eager excution"
   ]
  },
  {
   "cell_type": "code",
   "execution_count": 31,
   "metadata": {},
   "outputs": [],
   "source": [
    "# x_train = np.random.normal(loc=0, scale=1, size=[IMG_NUM, 28, 28])\n",
    "# y_train = np.random.choice(10, size=IMG_NUM)\n",
    "# y_train = tf.one_hot(y_train, 10)\n",
    "# ds = tf.data.Dataset.from_tensor_slices((x_train, y_train))\n",
    "# ds.batch(32)\n",
    "# inputs = tf.placeholder(tf.float64, shape=[None, 28, 28])\n",
    "# outputs = tf.placeholder(tf.int32, shape=[None, 10])\n",
    "# def model3(inputs, outputs):\n",
    "#     x = tf.layers.Flatten()(inputs)\n",
    "#     x = tf.layers.Dense(512, activation='relu')(x)\n",
    "#     x = tf.layers.Dropout(0.2)(x)\n",
    "#     pred = tf.layers.Dense(10, activation='softmax')(x)\n",
    "#     loss = tf.losses.softmax_cross_entropy(outputs, pred)\n",
    "#     train = tf.train.AdamOptimizer().minimize(loss)\n",
    "#     return pred, loss, train\n",
    "# p, l, t = model3(inputs, outputs)\n",
    "\n",
    "\n",
    "# sess = tf.Session()\n",
    "# init = tf.global_variables_initializer()\n",
    "# sess.run(init)\n",
    "\n",
    "# iterator = ds.make_one_shot_iterator()\n",
    "# next_element = iterator.get_next()\n",
    "\n",
    "# for i in range(1000):\n",
    "#     in_var, out_var = sess.run(next_element)\n",
    "#     sess.run(t, feed_dict={inputs:in_var, outputs:out_var})\n",
    "#     print(loss.numpy())\n",
    "\n"
   ]
  },
  {
   "cell_type": "code",
   "execution_count": null,
   "metadata": {},
   "outputs": [],
   "source": []
  }
 ],
 "metadata": {
  "file_extension": ".py",
  "kernelspec": {
   "display_name": "Python 3",
   "language": "python",
   "name": "python3"
  },
  "language_info": {
   "codemirror_mode": {
    "name": "ipython",
    "version": 3
   },
   "file_extension": ".py",
   "mimetype": "text/x-python",
   "name": "python",
   "nbconvert_exporter": "python",
   "pygments_lexer": "ipython3",
   "version": "3.6.8"
  },
  "mimetype": "text/x-python",
  "name": "python",
  "npconvert_exporter": "python",
  "pygments_lexer": "ipython3",
  "version": 3
 },
 "nbformat": 4,
 "nbformat_minor": 2
}